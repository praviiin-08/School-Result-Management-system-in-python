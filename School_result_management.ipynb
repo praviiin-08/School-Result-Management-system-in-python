{
 "cells": [
  {
   "cell_type": "code",
   "execution_count": 13,
   "id": "b46d4bbc-0fcf-4396-99ce-2772bfbb6737",
   "metadata": {},
   "outputs": [],
   "source": [
    "#config\n",
    "school_name=\"Kendriya Vidhyalaya School\"\n",
    "width=50\n",
    "max_retry=3"
   ]
  },
  {
   "cell_type": "code",
   "execution_count": 14,
   "id": "482b91bc-b533-487d-93a7-572db650df14",
   "metadata": {},
   "outputs": [],
   "source": [
    "#global_variables\n",
    "student_db = {\n",
    "    1: {'name': 'tejas', 'englishmarks': 87, 'math_marks': 88},\n",
    "    2: {'name': 'shivangi', 'englishmarks': 98, 'math_marks': 96},\n",
    "    3: {'name': 'parth sharma', 'englishmarks': 70, 'math_marks': 70},\n",
    "    4: {'name': 'Preeti', 'englishmarks': 0, 'math_marks': 0},\n",
    "    5: {'name': 'parth timbadiya', 'englishmarks': 44, 'math_marks': 100},\n",
    "    6: {'name': 'Virang', 'englishmarks': 58, 'math_marks': 40},\n",
    "    7: {'name': 'khushi', 'englishmarks': 78, 'math_marks': 33}\n",
    "    \n",
    "}\n",
    "\n",
    "teacher_db={\"username\":'pravin' , 'password':123}\n",
    "rollno=7\n"
   ]
  },
  {
   "cell_type": "code",
   "execution_count": 15,
   "id": "84634854-7d34-4ba9-811a-293f6b0008f1",
   "metadata": {},
   "outputs": [],
   "source": [
    "#error_messages\n",
    "err1=\"INVALID INPUT !\"\n",
    "err2=\"max tries over\""
   ]
  },
  {
   "cell_type": "code",
   "execution_count": 16,
   "id": "7f0c445c-798c-4ee0-b3a4-5718a4ea76bc",
   "metadata": {
    "jp-MarkdownHeadingCollapsed": true
   },
   "outputs": [],
   "source": [
    "#logic\n",
    "def print_header(msg=None):\n",
    "    head=\"-\"*width\n",
    "    print(f'{head} \\n {school_name.center(width)} ')\n",
    "    if msg:\n",
    "        print(msg.center(width))\n",
    "        print(head)\n",
    "    else:\n",
    "        print(head)\n",
    "\n",
    "def user_input(msg , max_exp_value):\n",
    "    for i in range(max_retry):\n",
    "        ch=int(input(msg))\n",
    "        if ch in range(1,max_exp_value+1):\n",
    "            return ch\n",
    "        else:\n",
    "            print(err1)\n",
    "    print(err2)\n",
    "\n",
    "def first_screen():\n",
    "    option=['Teacher Login' , 'Student Login' , 'Exit']\n",
    "    for i,j in enumerate(option,1):\n",
    "        print(f\"{i}) {j}\")\n",
    "    return user_input(\"Enter Your Choice :- \" , 3)\n",
    "\n",
    "def verify_cred():\n",
    "    username = input(\"Enter Your Username :- \")\n",
    "    password = int(input(\"Enter Your Password :- \"))\n",
    "    if username == teacher_db['username'] and password==teacher_db['password']:\n",
    "        print(\"Succesfully Login\")\n",
    "        return username\n",
    "        \n",
    "        \n",
    "    else:\n",
    "        print(\"INVALID CRED\")\n",
    "\n",
    "def teacher_console():\n",
    "    print_header(\"TEACHERS CONSOLE\")\n",
    "    option=['Get Result' , 'Search Roll no ' , 'Enter Student info' , 'Exit']\n",
    "    for i,j in enumerate(option,1):\n",
    "        print(f\"{i}) {j}\")\n",
    "    return user_input(\"Enter Your Choice \" , 4)\n",
    "    \n",
    "\n",
    "def get_rollno():\n",
    "    global rollno\n",
    "    rollno=rollno+1\n",
    "    return rollno\n",
    "\n",
    "def enter_stud_info():\n",
    "    stud_name=input(\"Enter Student Name:- \")\n",
    "    english_marks=int(input(\"Enter English Marks:- \"))\n",
    "    math_marks=int(input(\"Enter Maths Marks:- \"))\n",
    "    get_rollno()\n",
    "    student_db[rollno]={'name':stud_name , 'englishmarks':english_marks , 'math_marks':math_marks}\n",
    "    print(\"-------STUDENTS DETAILS SUCCESSFULLY ENTERED---------\")\n",
    "\n",
    "def get_result():\n",
    "    a='-'\n",
    "    \n",
    "    roll_no=int(input(\"Enter roll no\"))\n",
    "    if roll_no in student_db:\n",
    "        print_header()\n",
    "        r=get_rank(roll_no)\n",
    "        print(f\" Name : - {student_db[roll_no]['name']} \\n Roll no :- {roll_no} \\n {a * width } \\n English Marks : {student_db[roll_no]['englishmarks']} \\n Math Marks :- {student_db[roll_no]['math_marks']} \\n {a * width } \\n Percentage :- {(student_db[roll_no]['englishmarks'] + student_db[roll_no]['math_marks']) / 200 * 100} \\n Rank :- {r} \")\n",
    "    else:\n",
    "        print(err1)\n",
    "\n",
    "def student_login():\n",
    "    print_header(\"STUDENT CONSOLE\")\n",
    "    option=['Get Result' , 'Search Roll no' , 'Exit']\n",
    "    for i,j in enumerate(option,1):\n",
    "        print(f\"{i}) {j}\")\n",
    "    return user_input(\"Enter Your Choice:-\" , 3)\n",
    "\n",
    "def search_rollno():\n",
    "    name=input('Enter Your Name:- ')\n",
    "    result=[]\n",
    "    for key,value in student_db.items():\n",
    "        if name.lower() in value['name'].lower():\n",
    "            result.append(f\"Roll No: {key}, Name: {value['name']}\")\n",
    "    if result:\n",
    "        for i in result:\n",
    "            print(i)\n",
    "    else:\n",
    "        print(\"Student data not found\")\n",
    "\n",
    "def get_rank(roll_no):\n",
    "    total_marks = {roll: details['englishmarks'] + details['math_marks'] for roll, details in student_db.items()}\n",
    "    rank = 1\n",
    "    prev_total_marks = total_marks[roll_no]\n",
    "    for roll, marks in total_marks.items():\n",
    "        if marks > prev_total_marks:\n",
    "            rank += 1\n",
    "    return rank\n"
   ]
  },
  {
   "cell_type": "code",
   "execution_count": 17,
   "id": "d1a5a1cf-899c-4861-b5cd-94e892f3bbc7",
   "metadata": {},
   "outputs": [],
   "source": [
    "#main\n",
    "def main():\n",
    "    while True:\n",
    "        print_header()\n",
    "        ch=first_screen()\n",
    "        if ch==1:\n",
    "            v=verify_cred()\n",
    "            while True:\n",
    "                if v:\n",
    "                    t=teacher_console()\n",
    "                    \n",
    "                    if t==1:\n",
    "                        get_result()\n",
    "                    elif t==2:\n",
    "                        search_rollno()\n",
    "                    elif t==3:\n",
    "                        enter_stud_info()\n",
    "                    elif t==4:\n",
    "                        main()\n",
    "                        break\n",
    "                    else:\n",
    "                        print(err1)\n",
    "\n",
    "        elif ch==2:\n",
    "            while True:\n",
    "                s=student_login()\n",
    "                if s==1:\n",
    "                    get_result()\n",
    "                elif s==2:\n",
    "                    search_rollno()\n",
    "                elif s==3:\n",
    "                    break\n",
    "\n",
    "        elif ch==3:\n",
    "            print(\"SUCCESFULLY EXITED\")\n",
    "            break\n",
    "        else:\n",
    "            print(err1)\n",
    "            \n",
    "            \n",
    "        \n",
    "        "
   ]
  },
  {
   "cell_type": "code",
   "execution_count": 18,
   "id": "3e21c86d-d440-4c0d-985b-909d1bad10c3",
   "metadata": {},
   "outputs": [
    {
     "name": "stdout",
     "output_type": "stream",
     "text": [
      "-------------------------------------------------- \n",
      "             Kendriya Vidhyalaya School             \n",
      "--------------------------------------------------\n",
      "1) Teacher Login\n",
      "2) Student Login\n",
      "3) Exit\n"
     ]
    },
    {
     "name": "stdin",
     "output_type": "stream",
     "text": [
      "Enter Your Choice :-  1\n",
      "Enter Your Username :-  pravin\n",
      "Enter Your Password :-  123\n"
     ]
    },
    {
     "name": "stdout",
     "output_type": "stream",
     "text": [
      "Succesfully Login\n",
      "-------------------------------------------------- \n",
      "             Kendriya Vidhyalaya School             \n",
      "                 TEACHERS CONSOLE                 \n",
      "--------------------------------------------------\n",
      "1) Get Result\n",
      "2) Search Roll no \n",
      "3) Enter Student info\n",
      "4) Exit\n"
     ]
    },
    {
     "name": "stdin",
     "output_type": "stream",
     "text": [
      "Enter Your Choice  1\n",
      "Enter roll no 1\n"
     ]
    },
    {
     "name": "stdout",
     "output_type": "stream",
     "text": [
      "-------------------------------------------------- \n",
      "             Kendriya Vidhyalaya School             \n",
      "--------------------------------------------------\n",
      " Name : - tejas \n",
      " Roll no :- 1 \n",
      " -------------------------------------------------- \n",
      " English Marks : 87 \n",
      " Math Marks :- 88 \n",
      " -------------------------------------------------- \n",
      " Percentage :- 87.5 \n",
      " Rank :- 2 \n",
      "-------------------------------------------------- \n",
      "             Kendriya Vidhyalaya School             \n",
      "                 TEACHERS CONSOLE                 \n",
      "--------------------------------------------------\n",
      "1) Get Result\n",
      "2) Search Roll no \n",
      "3) Enter Student info\n",
      "4) Exit\n"
     ]
    },
    {
     "name": "stdin",
     "output_type": "stream",
     "text": [
      "Enter Your Choice  2\n",
      "Enter Your Name:-  PARTH\n"
     ]
    },
    {
     "name": "stdout",
     "output_type": "stream",
     "text": [
      "Roll No: 3, Name: parth sharma\n",
      "Roll No: 5, Name: parth timbadiya\n",
      "-------------------------------------------------- \n",
      "             Kendriya Vidhyalaya School             \n",
      "                 TEACHERS CONSOLE                 \n",
      "--------------------------------------------------\n",
      "1) Get Result\n",
      "2) Search Roll no \n",
      "3) Enter Student info\n",
      "4) Exit\n"
     ]
    },
    {
     "name": "stdin",
     "output_type": "stream",
     "text": [
      "Enter Your Choice  3\n",
      "Enter Student Name:-  atharv\n",
      "Enter English Marks:-  67\n",
      "Enter Maths Marks:-  33\n"
     ]
    },
    {
     "name": "stdout",
     "output_type": "stream",
     "text": [
      "-------STUDENTS DETAILS SUCCESSFULLY ENTERED---------\n",
      "-------------------------------------------------- \n",
      "             Kendriya Vidhyalaya School             \n",
      "                 TEACHERS CONSOLE                 \n",
      "--------------------------------------------------\n",
      "1) Get Result\n",
      "2) Search Roll no \n",
      "3) Enter Student info\n",
      "4) Exit\n"
     ]
    },
    {
     "name": "stdin",
     "output_type": "stream",
     "text": [
      "Enter Your Choice  4\n"
     ]
    },
    {
     "name": "stdout",
     "output_type": "stream",
     "text": [
      "-------------------------------------------------- \n",
      "             Kendriya Vidhyalaya School             \n",
      "--------------------------------------------------\n",
      "1) Teacher Login\n",
      "2) Student Login\n",
      "3) Exit\n"
     ]
    },
    {
     "name": "stdin",
     "output_type": "stream",
     "text": [
      "Enter Your Choice :-  2\n"
     ]
    },
    {
     "name": "stdout",
     "output_type": "stream",
     "text": [
      "-------------------------------------------------- \n",
      "             Kendriya Vidhyalaya School             \n",
      "                 STUDENT CONSOLE                  \n",
      "--------------------------------------------------\n",
      "1) Get Result\n",
      "2) Search Roll no\n",
      "3) Exit\n"
     ]
    },
    {
     "name": "stdin",
     "output_type": "stream",
     "text": [
      "Enter Your Choice:- 1\n",
      "Enter roll no 2\n"
     ]
    },
    {
     "name": "stdout",
     "output_type": "stream",
     "text": [
      "-------------------------------------------------- \n",
      "             Kendriya Vidhyalaya School             \n",
      "--------------------------------------------------\n",
      " Name : - shivangi \n",
      " Roll no :- 2 \n",
      " -------------------------------------------------- \n",
      " English Marks : 98 \n",
      " Math Marks :- 96 \n",
      " -------------------------------------------------- \n",
      " Percentage :- 97.0 \n",
      " Rank :- 1 \n",
      "-------------------------------------------------- \n",
      "             Kendriya Vidhyalaya School             \n",
      "                 STUDENT CONSOLE                  \n",
      "--------------------------------------------------\n",
      "1) Get Result\n",
      "2) Search Roll no\n",
      "3) Exit\n"
     ]
    },
    {
     "name": "stdin",
     "output_type": "stream",
     "text": [
      "Enter Your Choice:- 2\n",
      "Enter Your Name:-  parth\n"
     ]
    },
    {
     "name": "stdout",
     "output_type": "stream",
     "text": [
      "Roll No: 3, Name: parth sharma\n",
      "Roll No: 5, Name: parth timbadiya\n",
      "-------------------------------------------------- \n",
      "             Kendriya Vidhyalaya School             \n",
      "                 STUDENT CONSOLE                  \n",
      "--------------------------------------------------\n",
      "1) Get Result\n",
      "2) Search Roll no\n",
      "3) Exit\n"
     ]
    },
    {
     "name": "stdin",
     "output_type": "stream",
     "text": [
      "Enter Your Choice:- 3\n"
     ]
    },
    {
     "name": "stdout",
     "output_type": "stream",
     "text": [
      "-------------------------------------------------- \n",
      "             Kendriya Vidhyalaya School             \n",
      "--------------------------------------------------\n",
      "1) Teacher Login\n",
      "2) Student Login\n",
      "3) Exit\n"
     ]
    },
    {
     "name": "stdin",
     "output_type": "stream",
     "text": [
      "Enter Your Choice :-  3\n"
     ]
    },
    {
     "name": "stdout",
     "output_type": "stream",
     "text": [
      "SUCCESFULLY EXITED\n",
      "-------------------------------------------------- \n",
      "             Kendriya Vidhyalaya School             \n",
      "--------------------------------------------------\n",
      "1) Teacher Login\n",
      "2) Student Login\n",
      "3) Exit\n"
     ]
    },
    {
     "name": "stdin",
     "output_type": "stream",
     "text": [
      "Enter Your Choice :-  3\n"
     ]
    },
    {
     "name": "stdout",
     "output_type": "stream",
     "text": [
      "SUCCESFULLY EXITED\n"
     ]
    }
   ],
   "source": [
    "main()"
   ]
  },
  {
   "cell_type": "code",
   "execution_count": null,
   "id": "ad30e542-6ac7-4b08-97c1-131ecd98c378",
   "metadata": {},
   "outputs": [],
   "source": []
  },
  {
   "cell_type": "code",
   "execution_count": null,
   "id": "add206f7-0d11-4b8d-afca-cd769708b16d",
   "metadata": {},
   "outputs": [],
   "source": []
  },
  {
   "cell_type": "code",
   "execution_count": null,
   "id": "ab2068ae-2bc4-4442-8a7e-b478415be622",
   "metadata": {},
   "outputs": [],
   "source": []
  },
  {
   "cell_type": "code",
   "execution_count": null,
   "id": "0120124e-0c75-4e7a-83b5-9d5c166120d7",
   "metadata": {},
   "outputs": [],
   "source": []
  }
 ],
 "metadata": {
  "kernelspec": {
   "display_name": "Python 3 (ipykernel)",
   "language": "python",
   "name": "python3"
  },
  "language_info": {
   "codemirror_mode": {
    "name": "ipython",
    "version": 3
   },
   "file_extension": ".py",
   "mimetype": "text/x-python",
   "name": "python",
   "nbconvert_exporter": "python",
   "pygments_lexer": "ipython3",
   "version": "3.11.0"
  }
 },
 "nbformat": 4,
 "nbformat_minor": 5
}
